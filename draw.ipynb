{
 "cells": [
  {
   "cell_type": "code",
   "execution_count": 1,
   "metadata": {},
   "outputs": [],
   "source": [
    "from pyecharts import Scatter3D"
   ]
  },
  {
   "cell_type": "code",
   "execution_count": 2,
   "metadata": {},
   "outputs": [],
   "source": [
    "# 雷达坐标(m)\n",
    "leida_data = [\n",
    "    [80000.0, 0.0, 0.0],\n",
    "    [30000.0, 60000.0, 0.0],\n",
    "    [55000.0, 110000.0, 0.0],\n",
    "    [105000.0, 110000.0, 0.0],\n",
    "    [130000.0, 60000.0, 0.0],\n",
    "]"
   ]
  },
  {
   "cell_type": "code",
   "execution_count": 3,
   "metadata": {},
   "outputs": [],
   "source": [
    "# 第一题航线坐标(m)\n",
    "hangxian_0 = [\n",
    "    [60600, 69982, 7995],\n",
    "    [61197, 69928, 7980],\n",
    "    [61790, 69838, 7955],\n",
    "    [62377, 69713, 7920],\n",
    "    [62955, 69553, 7875],\n",
    "    [63523, 69359, 7820],\n",
    "    [64078, 69131, 7755],\n",
    "    [64618, 68870, 7680],\n",
    "    [65141, 68577, 7595],\n",
    "    [65646, 68253, 7500],\n",
    "    [66131, 67900, 7395],\n",
    "    [66594, 67518, 7280],\n",
    "    [67026, 67116, 7155],\n",
    "    [67426, 66697, 7020],\n",
    "    [67796, 66263, 6875],\n",
    "    [68134, 65817, 6720],\n",
    "    [68442, 65361, 6555],\n",
    "    [68719, 64897, 6380],\n",
    "    [68966, 64429, 6195],\n",
    "    [69184, 63957, 6000],\n",
    "]"
   ]
  },
  {
   "cell_type": "code",
   "execution_count": 4,
   "metadata": {},
   "outputs": [],
   "source": [
    "range_color = [\n",
    "    '#313695', '#4575b4', '#74add1', '#abd9e9', '#e0f3f8', '#ffffbf',\n",
    "    '#fee090', '#fdae61', '#f46d43', '#d73027', '#a50026']\n",
    "scatter3D = Scatter3D(\"雷达干扰\", width=1200, height=600)\n",
    "scatter3D.add(\"雷达1\", [[80000.0, 0.0, 0.0]])\n",
    "scatter3D.add(\"雷达2\", [[30000.0, 60000.0, 0.0]])\n",
    "scatter3D.add(\"雷达3\", [[55000.0, 110000.0, 0.0]])\n",
    "scatter3D.add(\"雷达4\", [[105000.0, 110000.0, 0.0]])\n",
    "scatter3D.add(\"雷达5\", [[130000.0, 60000.0, 0.0]])\n",
    "\n",
    "# scatter3D.print_echarts_options()\n",
    "scatter3D.render()"
   ]
  },
  {
   "cell_type": "code",
   "execution_count": 5,
   "metadata": {},
   "outputs": [],
   "source": [
    "scatter3D.add(\"航线0\", hangxian_0)\n",
    "scatter3D.render()"
   ]
  },
  {
   "cell_type": "code",
   "execution_count": 6,
   "metadata": {},
   "outputs": [],
   "source": [
    "# 雷达探测范围曲面数据\n",
    "def create_surface3d_data(a, b, c=0, R=150000.0, step=10):\n",
    "    surface3d_data = []\n",
    "    for x in range(a - R, a + R, step):\n",
    "        for y in range(b - R, b + R, step):\n",
    "            t = R ** 2 - (x - a) ** 2 - (y - b) ** 2\n",
    "            if t >= 0:\n",
    "                z = c + t ** .5\n",
    "                surface3d_data.append([x, y, z])\n",
    "    return surface3d_data"
   ]
  },
  {
   "cell_type": "code",
   "execution_count": null,
   "metadata": {},
   "outputs": [],
   "source": []
  }
 ],
 "metadata": {
  "kernelspec": {
   "display_name": "Python 3",
   "language": "python",
   "name": "python3"
  },
  "language_info": {
   "codemirror_mode": {
    "name": "ipython",
    "version": 3
   },
   "file_extension": ".py",
   "mimetype": "text/x-python",
   "name": "python",
   "nbconvert_exporter": "python",
   "pygments_lexer": "ipython3",
   "version": "3.6.5"
  }
 },
 "nbformat": 4,
 "nbformat_minor": 2
}
