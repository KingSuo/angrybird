{
 "cells": [
  {
   "cell_type": "code",
   "execution_count": 1,
   "metadata": {},
   "outputs": [
    {
     "name": "stderr",
     "output_type": "stream",
     "text": [
      "ERROR:lml.utils:failed to import pyecharts_snapshot\n",
      "Traceback (most recent call last):\n",
      "  File \"/home/kingsuo/workspace/venv/jupyter/lib/python3.6/site-packages/lml/utils.py\", line 43, in do_import\n",
      "    plugin_module = __import__(plugin_module_name)\n",
      "ModuleNotFoundError: No module named 'pyecharts_snapshot'\n"
     ]
    }
   ],
   "source": [
    "from pyecharts import Scatter3D"
   ]
  },
  {
   "cell_type": "code",
   "execution_count": 2,
   "metadata": {},
   "outputs": [],
   "source": [
    "# 雷达坐标(m)\n",
    "leida_data = [\n",
    "    [80000.0, 0.0, 0.0],\n",
    "    [30000.0, 60000.0, 0.0],\n",
    "    [55000.0, 110000.0, 0.0],\n",
    "    [105000.0, 110000.0, 0.0],\n",
    "    [130000.0, 60000.0, 0.0],\n",
    "]"
   ]
  },
  {
   "cell_type": "code",
   "execution_count": 3,
   "metadata": {},
   "outputs": [],
   "source": [
    "# 第一题航线坐标(m)\n",
    "hangxian_0 = [\n",
    "    [60600, 69982, 7995],\n",
    "    [61197, 69928, 7980],\n",
    "    [61790, 69838, 7955],\n",
    "    [62377, 69713, 7920],\n",
    "    [62955, 69553, 7875],\n",
    "    [63523, 69359, 7820],\n",
    "    [64078, 69131, 7755],\n",
    "    [64618, 68870, 7680],\n",
    "    [65141, 68577, 7595],\n",
    "    [65646, 68253, 7500],\n",
    "    [66131, 67900, 7395],\n",
    "    [66594, 67518, 7280],\n",
    "    [67026, 67116, 7155],\n",
    "    [67426, 66697, 7020],\n",
    "    [67796, 66263, 6875],\n",
    "    [68134, 65817, 6720],\n",
    "    [68442, 65361, 6555],\n",
    "    [68719, 64897, 6380],\n",
    "    [68966, 64429, 6195],\n",
    "    [69184, 63957, 6000],\n",
    "]"
   ]
  },
  {
   "cell_type": "code",
   "execution_count": 4,
   "metadata": {},
   "outputs": [],
   "source": [
    "range_color = [\n",
    "    '#313695', '#4575b4', '#74add1', '#abd9e9', '#e0f3f8', '#ffffbf',\n",
    "    '#fee090', '#fdae61', '#f46d43', '#d73027', '#a50026']\n",
    "scatter3D = Scatter3D(\"雷达干扰\", width=1200, height=600)\n",
    "scatter3D.add(\"雷达1\", [[80000.0, 0.0, 0.0]])\n",
    "scatter3D.add(\"雷达2\", [[30000.0, 60000.0, 0.0]])\n",
    "scatter3D.add(\"雷达3\", [[55000.0, 110000.0, 0.0]])\n",
    "scatter3D.add(\"雷达4\", [[105000.0, 110000.0, 0.0]])\n",
    "scatter3D.add(\"雷达5\", [[130000.0, 60000.0, 0.0]])\n",
    "\n",
    "# scatter3D.print_echarts_options()\n",
    "scatter3D.render()"
   ]
  },
  {
   "cell_type": "code",
   "execution_count": 5,
   "metadata": {},
   "outputs": [],
   "source": [
    "scatter3D.add(\"干扰线\", hangxian_0)\n",
    "scatter3D.render()"
   ]
  },
  {
   "cell_type": "code",
   "execution_count": 6,
   "metadata": {},
   "outputs": [],
   "source": [
    "# 雷达探测范围曲面数据\n",
    "def create_surface3d_data(a, b, c=0, R=150000.0, step=10):\n",
    "    surface3d_data = []\n",
    "    for x in range(a - R, a + R, step):\n",
    "        for y in range(b - R, b + R, step):\n",
    "            t = R ** 2 - (x - a) ** 2 - (y - b) ** 2\n",
    "            if t >= 0:\n",
    "                z = c + t ** .5\n",
    "                surface3d_data.append([x, y, z])\n",
    "    return surface3d_data"
   ]
  },
  {
   "cell_type": "code",
   "execution_count": 7,
   "metadata": {},
   "outputs": [],
   "source": [
    "u_0 = [[115184.3657, 61840.224, 2159.49119],\n",
    "[88814.41531, 64836.14174, 2159.49119],\n",
    "[62444.4649, 67832.05948, 2159.49119],\n",
    "[36074.51449, 70827.97721, 2159.49119],\n",
    "[9704.56408, 73823.89495, 2159.49119],\n",
    "[-16665.38633, 76819.81269, 2159.49119],\n",
    "[-43035.33674, 79815.73043, 2159.49119],\n",
    "[-69405.28715, 82811.64817, 2159.49119],\n",
    "[-95775.23757, 85807.56591, 2159.49119],\n",
    "[-122145.188, 88803.48364, 2159.49119],\n",
    "[-148515.1384, 91799.40138, 2159.49119],\n",
    "[-174885.0888, 94795.31912, 2159.49119],\n",
    "[-201255.0392, 97791.23686, 2159.49119],\n",
    "[-227624.9896, 100787.1546, 2159.49119],\n",
    "[-253994.94, 103783.0723, 2159.49119],\n",
    "[-280364.8905, 106778.9901, 2159.49119],\n",
    "[-306734.8409, 109774.9078, 2159.49119],\n",
    "[-333104.7913, 112770.8256, 2159.49119],\n",
    "[-359474.7417, 115766.7433, 2159.49119],\n",
    "[-385844.6921, 118762.661, 2159.49119],]"
   ]
  },
  {
   "cell_type": "code",
   "execution_count": 8,
   "metadata": {},
   "outputs": [],
   "source": [
    "u_1 = [\n",
    "    [90733.49559, 97184.80823, 2495.10763],\n",
    "    [115378.8947, 99242.89077, 2495.10763],\n",
    "    [140024.2939, 101300.9733, 2495.10763],\n",
    "    [164669.693, 103359.0558, 2495.10763],\n",
    "    [189315.0921, 105417.1384, 2495.10763],\n",
    "    [213960.4913, 107475.2209, 2495.10763],\n",
    "    [238605.8904, 109533.3035, 2495.10763],\n",
    "    [263251.2896, 111591.386, 2495.10763],\n",
    "    [287896.6887, 113649.4685, 2495.10763],\n",
    "    [312542.0878, 115707.5511, 2495.10763],\n",
    "    [337187.487, 117765.6336, 2495.10763],\n",
    "    [361832.8861, 119823.7161, 2495.10763],\n",
    "    [386478.2853, 121881.7987, 2495.10763],\n",
    "    [411123.6844, 123939.8812, 2495.10763],\n",
    "    [435769.0835, 125997.9638, 2495.10763],\n",
    "    [460414.4827, 128056.0463, 2495.10763],\n",
    "    [485059.8818, 130114.1288, 2495.10763],\n",
    "    [509705.281, 132172.2114, 2495.10763],\n",
    "    [534350.6801, 134230.2939, 2495.10763],\n",
    "    [558996.0792, 136288.3764, 2495.10763],\n",
    "]"
   ]
  },
  {
   "cell_type": "code",
   "execution_count": 9,
   "metadata": {},
   "outputs": [],
   "source": [
    "u_2 = [\n",
    "    [66399.35607, 45123.4064, 2436.39922],\n",
    "    [61712.95057, 71752.29499, 2436.39922],\n",
    "    [57026.54507, 98381.18359, 2436.39922],\n",
    "    [52340.13957, 125010.0722, 2436.39922],\n",
    "    [47653.73406, 151638.9608, 2436.39922],\n",
    "    [42967.32856, 178267.8494, 2436.39922],\n",
    "    [38280.92306, 204896.738, 2436.39922],\n",
    "    [33594.51755, 231525.6266, 2436.39922],\n",
    "    [28908.11205, 258154.5152, 2436.39922],\n",
    "    [24221.70655, 284783.4038, 2436.39922],\n",
    "    [19535.30104, 311412.2924, 2436.39922],\n",
    "    [14848.89554, 338041.181, 2436.39922],\n",
    "    [10162.49004, 364670.0696, 2436.39922],\n",
    "    [5476.08454, 391298.9582, 2436.39922],\n",
    "    [789.67903, 417927.8467, 2436.39922],\n",
    "    [-3896.72647, 444556.7353, 2436.39922],\n",
    "    [-8583.13197, 471185.6239, 2436.39922],\n",
    "    [-13269.53748, 497814.5125, 2436.39922],\n",
    "    [-17955.94298, 524443.4011, 2436.39922],\n",
    "    [-22642.34848, 551072.2897, 2436.39922],\n",
    "]"
   ]
  },
  {
   "cell_type": "code",
   "execution_count": 10,
   "metadata": {},
   "outputs": [],
   "source": [
    "# scatter3D.add(\"航线0\", u_0)\n",
    "# scatter3D.add(\"航线1\", u_1)\n",
    "# scatter3D.add(\"航线2\", u_2)\n",
    "# scatter3D.render()"
   ]
  },
  {
   "cell_type": "code",
   "execution_count": 11,
   "metadata": {},
   "outputs": [],
   "source": [
    "import numpy as np\n",
    "import pandas as pd"
   ]
  },
  {
   "cell_type": "code",
   "execution_count": 12,
   "metadata": {},
   "outputs": [],
   "source": [
    "data_pd = pd.read_excel(r'4架无人机航线.xlsx')"
   ]
  },
  {
   "cell_type": "code",
   "execution_count": 13,
   "metadata": {},
   "outputs": [],
   "source": [
    "data_array = np.array(data_pd)[:,1:]"
   ]
  },
  {
   "cell_type": "code",
   "execution_count": 14,
   "metadata": {},
   "outputs": [
    {
     "ename": "ValueError",
     "evalue": "cannot reshape array of size 61 into shape (20,3)",
     "output_type": "error",
     "traceback": [
      "\u001b[0;31m---------------------------------------------------------------------------\u001b[0m",
      "\u001b[0;31mValueError\u001b[0m                                Traceback (most recent call last)",
      "\u001b[0;32m<ipython-input-14-5b3d74c706d7>\u001b[0m in \u001b[0;36m<module>\u001b[0;34m()\u001b[0m\n\u001b[1;32m      1\u001b[0m \u001b[0;32mfor\u001b[0m \u001b[0mi\u001b[0m \u001b[0;32min\u001b[0m \u001b[0mrange\u001b[0m\u001b[0;34m(\u001b[0m\u001b[0mlen\u001b[0m\u001b[0;34m(\u001b[0m\u001b[0mdata_array\u001b[0m\u001b[0;34m)\u001b[0m\u001b[0;34m)\u001b[0m\u001b[0;34m:\u001b[0m\u001b[0;34m\u001b[0m\u001b[0m\n\u001b[0;32m----> 2\u001b[0;31m     \u001b[0mscatter3D\u001b[0m\u001b[0;34m.\u001b[0m\u001b[0madd\u001b[0m\u001b[0;34m(\u001b[0m\u001b[0;34m\"航线%d\"\u001b[0m\u001b[0;34m%\u001b[0m\u001b[0mi\u001b[0m\u001b[0;34m,\u001b[0m \u001b[0mnp\u001b[0m\u001b[0;34m.\u001b[0m\u001b[0mreshape\u001b[0m\u001b[0;34m(\u001b[0m\u001b[0mdata_array\u001b[0m\u001b[0;34m[\u001b[0m\u001b[0mi\u001b[0m\u001b[0;34m]\u001b[0m\u001b[0;34m,\u001b[0m \u001b[0;34m(\u001b[0m\u001b[0;36m20\u001b[0m\u001b[0;34m,\u001b[0m\u001b[0;36m3\u001b[0m\u001b[0;34m)\u001b[0m\u001b[0;34m)\u001b[0m\u001b[0;34m)\u001b[0m\u001b[0;34m\u001b[0m\u001b[0m\n\u001b[0m",
      "\u001b[0;32m~/workspace/venv/jupyter/lib/python3.6/site-packages/numpy/core/fromnumeric.py\u001b[0m in \u001b[0;36mreshape\u001b[0;34m(a, newshape, order)\u001b[0m\n\u001b[1;32m    255\u001b[0m            [5, 6]])\n\u001b[1;32m    256\u001b[0m     \"\"\"\n\u001b[0;32m--> 257\u001b[0;31m     \u001b[0;32mreturn\u001b[0m \u001b[0m_wrapfunc\u001b[0m\u001b[0;34m(\u001b[0m\u001b[0ma\u001b[0m\u001b[0;34m,\u001b[0m \u001b[0;34m'reshape'\u001b[0m\u001b[0;34m,\u001b[0m \u001b[0mnewshape\u001b[0m\u001b[0;34m,\u001b[0m \u001b[0morder\u001b[0m\u001b[0;34m=\u001b[0m\u001b[0morder\u001b[0m\u001b[0;34m)\u001b[0m\u001b[0;34m\u001b[0m\u001b[0m\n\u001b[0m\u001b[1;32m    258\u001b[0m \u001b[0;34m\u001b[0m\u001b[0m\n\u001b[1;32m    259\u001b[0m \u001b[0;34m\u001b[0m\u001b[0m\n",
      "\u001b[0;32m~/workspace/venv/jupyter/lib/python3.6/site-packages/numpy/core/fromnumeric.py\u001b[0m in \u001b[0;36m_wrapfunc\u001b[0;34m(obj, method, *args, **kwds)\u001b[0m\n\u001b[1;32m     50\u001b[0m \u001b[0;32mdef\u001b[0m \u001b[0m_wrapfunc\u001b[0m\u001b[0;34m(\u001b[0m\u001b[0mobj\u001b[0m\u001b[0;34m,\u001b[0m \u001b[0mmethod\u001b[0m\u001b[0;34m,\u001b[0m \u001b[0;34m*\u001b[0m\u001b[0margs\u001b[0m\u001b[0;34m,\u001b[0m \u001b[0;34m**\u001b[0m\u001b[0mkwds\u001b[0m\u001b[0;34m)\u001b[0m\u001b[0;34m:\u001b[0m\u001b[0;34m\u001b[0m\u001b[0m\n\u001b[1;32m     51\u001b[0m     \u001b[0;32mtry\u001b[0m\u001b[0;34m:\u001b[0m\u001b[0;34m\u001b[0m\u001b[0m\n\u001b[0;32m---> 52\u001b[0;31m         \u001b[0;32mreturn\u001b[0m \u001b[0mgetattr\u001b[0m\u001b[0;34m(\u001b[0m\u001b[0mobj\u001b[0m\u001b[0;34m,\u001b[0m \u001b[0mmethod\u001b[0m\u001b[0;34m)\u001b[0m\u001b[0;34m(\u001b[0m\u001b[0;34m*\u001b[0m\u001b[0margs\u001b[0m\u001b[0;34m,\u001b[0m \u001b[0;34m**\u001b[0m\u001b[0mkwds\u001b[0m\u001b[0;34m)\u001b[0m\u001b[0;34m\u001b[0m\u001b[0m\n\u001b[0m\u001b[1;32m     53\u001b[0m \u001b[0;34m\u001b[0m\u001b[0m\n\u001b[1;32m     54\u001b[0m     \u001b[0;31m# An AttributeError occurs if the object does not have\u001b[0m\u001b[0;34m\u001b[0m\u001b[0;34m\u001b[0m\u001b[0m\n",
      "\u001b[0;31mValueError\u001b[0m: cannot reshape array of size 61 into shape (20,3)"
     ]
    }
   ],
   "source": [
    "for i in range(len(data_array)):\n",
    "    scatter3D.add(\"航线%d\"%i, np.reshape(data_array[i], (20,3)))"
   ]
  },
  {
   "cell_type": "code",
   "execution_count": null,
   "metadata": {},
   "outputs": [],
   "source": [
    "scatter3D.render()"
   ]
  },
  {
   "cell_type": "code",
   "execution_count": null,
   "metadata": {},
   "outputs": [],
   "source": [
    "print(np.reshape(data_array[0], (20,3)))"
   ]
  },
  {
   "cell_type": "code",
   "execution_count": null,
   "metadata": {},
   "outputs": [],
   "source": []
  }
 ],
 "metadata": {
  "kernelspec": {
   "display_name": "Python 3",
   "language": "python",
   "name": "python3"
  },
  "language_info": {
   "codemirror_mode": {
    "name": "ipython",
    "version": 3
   },
   "file_extension": ".py",
   "mimetype": "text/x-python",
   "name": "python",
   "nbconvert_exporter": "python",
   "pygments_lexer": "ipython3",
   "version": "3.6.5"
  }
 },
 "nbformat": 4,
 "nbformat_minor": 2
}
